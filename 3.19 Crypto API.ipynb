{
 "cells": [
  {
   "cell_type": "code",
   "execution_count": 1,
   "metadata": {},
   "outputs": [],
   "source": [
    "from binance.client import Client"
   ]
  },
  {
   "cell_type": "code",
   "execution_count": 2,
   "metadata": {},
   "outputs": [],
   "source": [
    "#retrieve api key from text file\n",
    "a = open(\"api_key.txt\",\"r\")\n",
    "api_key = a.read().strip()\n",
    "\n",
    "#retrieve api secret key from text file\n",
    "b = open(\"api_secret.txt\",\"r\")\n",
    "api_secret = b.read().strip()\n",
    "\n",
    "a.close()\n",
    "b.close()"
   ]
  },
  {
   "cell_type": "code",
   "execution_count": 3,
   "metadata": {},
   "outputs": [
    {
     "name": "stdout",
     "output_type": "stream",
     "text": [
      "Logged in\n"
     ]
    }
   ],
   "source": [
    "#Launching Binance API client\n",
    "client = Client(api_key, api_secret)\n",
    "print(\"Logged in\")"
   ]
  },
  {
   "cell_type": "code",
   "execution_count": 4,
   "metadata": {},
   "outputs": [
    {
     "name": "stdout",
     "output_type": "stream",
     "text": [
      "How many market checks would you like this program to perform per hour?\n",
      "4\n",
      "For how many hours would you like this program to be running?\n",
      "1\n",
      "At what percentage change, in any crypto in your listed portfolio, would you like to be notified of (assuming 24 hr data)?\n",
      "1\n",
      "What message would you like to be notified with if a crypto in your portfolio moves outside of your % change threshold?\n",
      "Message!\n",
      "What is your email?\n",
      "jg6zcontact@gmail.com\n"
     ]
    }
   ],
   "source": [
    "#Asking user various questions for how they would like the program to run\n",
    "\n",
    "print(\"How many market checks would you like this program to perform per hour?\")\n",
    "checks_freq = input()\n",
    "\n",
    "print(\"For how many hours would you like this program to be running?\")\n",
    "checks_hours = input()\n",
    "\n",
    "print(\"At what percentage change, in any crypto in your listed portfolio, would you like to be notified of (assuming 24 hr data)?\")\n",
    "change_thresh = input()\n",
    "\n",
    "print(\"What message would you like to be notified with if a crypto in your portfolio moves outside of your % change threshold?\")\n",
    "message = input()\n",
    "\n",
    "print(\"What is your email?\")\n",
    "email = input()"
   ]
  },
  {
   "cell_type": "code",
   "execution_count": 5,
   "metadata": {},
   "outputs": [],
   "source": [
    "#Cryptocurrency portfolio with corresponding 24h percentage change values (initalized to 0 as a default)\n",
    "portfolio = {'ADABTC':'0','LTCBTC':'0','UNIBTC':'0','ETHBTC':'0'}\n",
    "\n",
    "#updates portfolio with current 24 hr %change data\n",
    "def update_portfolio():\n",
    "    \n",
    "    #makes request to Binance platform to retrieve current 24h ticker info\n",
    "    tickers = client.get_ticker()\n",
    "    \n",
    "    for row in tickers:\n",
    "            for asset in portfolio:\n",
    "                if row['symbol'] == asset:\n",
    "                    portfolio[asset] = row['priceChangePercent']\n",
    "    \n",
    "    #prints current portfolio percent changes               \n",
    "    for x,y in portfolio.items():\n",
    "        print(x,y)\n",
    "        \n",
    "    #writes current portfolio percent changes to a txt file\n",
    "    file1 = open('crypto_api_output.txt','w')\n",
    "    for x,y in portfolio.items():\n",
    "        file1.writelines([x,': ',y,'\\n'])\n",
    "    file1.close()"
   ]
  },
  {
   "cell_type": "code",
   "execution_count": 6,
   "metadata": {},
   "outputs": [],
   "source": [
    "#The following lines of code are used to define a function that can email a user using gmail's SMTP_SSL protocol\n",
    "import smtplib, ssl\n",
    "\n",
    "def email_user(message, email):\n",
    "    #Gmail's SSL Port\n",
    "            port = 465 \n",
    "\n",
    "            #Retrieving password\n",
    "            a = open('password.txt','r')\n",
    "            password = a.read()\n",
    "            a.close()\n",
    "\n",
    "            #Create a secure SSL context\n",
    "            context = ssl.create_default_context()\n",
    "            \n",
    "            #Launches local server so email can be sent\n",
    "            with smtplib.SMTP_SSL(\"smtp.gmail.com\", port, context=context) as server:\n",
    "                server.login(email, password)\n",
    "                server.sendmail(email, email, message)"
   ]
  },
  {
   "cell_type": "code",
   "execution_count": null,
   "metadata": {},
   "outputs": [
    {
     "name": "stdout",
     "output_type": "stream",
     "text": [
      "ADABTC 2.036\n",
      "LTCBTC -1.886\n",
      "UNIBTC 1.854\n",
      "ETHBTC -0.914\n"
     ]
    }
   ],
   "source": [
    "import time\n",
    "\n",
    "#variable for tracking time \n",
    "current_run = 0\n",
    "#variable constant\n",
    "seconds_in_hour = 3600\n",
    "\n",
    "#loop runs until user's time request is reached\n",
    "while (int(current_run) <= (int(checks_hours)*int(checks_freq))):\n",
    "     \n",
    "    #retrieves current asset data   \n",
    "    update_portfolio()\n",
    "   \n",
    "    #if any of the price percent changes go over the threshold, the user is emailed with an alert\n",
    "    for item in portfolio:\n",
    "        if (int(float(portfolio.get(item))) >= int(change_thresh) or int(float(portfolio.get(item))) <= int(change_thresh) * -1):\n",
    "            email_user(message, email)\n",
    "    \n",
    "    current_run+=1\n",
    "    \n",
    "    #used to spread out when iterations of the loop are ran\n",
    "    time.sleep(seconds_in_hour/int(checks_freq))\n",
    "    \n",
    "    "
   ]
  },
  {
   "cell_type": "code",
   "execution_count": null,
   "metadata": {},
   "outputs": [],
   "source": []
  }
 ],
 "metadata": {
  "kernelspec": {
   "display_name": "Python 3",
   "language": "python",
   "name": "python3"
  },
  "language_info": {
   "codemirror_mode": {
    "name": "ipython",
    "version": 3
   },
   "file_extension": ".py",
   "mimetype": "text/x-python",
   "name": "python",
   "nbconvert_exporter": "python",
   "pygments_lexer": "ipython3",
   "version": "3.8.3"
  }
 },
 "nbformat": 4,
 "nbformat_minor": 4
}
